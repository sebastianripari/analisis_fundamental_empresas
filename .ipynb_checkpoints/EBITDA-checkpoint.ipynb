{
 "cells": [
  {
   "cell_type": "markdown",
   "metadata": {},
   "source": [
    "# EBIDTA (Earnings Before Interest, Taxes, Depreciation and Amortization)"
   ]
  },
  {
   "cell_type": "markdown",
   "metadata": {},
   "source": [
    "El <b>EBITDA</b> es un indicador financiero que hace referencia a las ganancias de la compañía antes de intereses, impuestos, depreciaciones y amortizaciones. Se puede entender, pues, que el EBITDA es el beneficio bruto de explotación calculado antes de la deducibilidad de los gastos financieros. "
   ]
  },
  {
   "cell_type": "markdown",
   "metadata": {},
   "source": [
    "Su nombre proviene de las siglas en inglés de \"Beneficios antes de intereses, impuestos, depreciación y amortización\" (Earnings before Interest, Taxes, Depreciation and Amortization). "
   ]
  }
 ],
 "metadata": {
  "kernelspec": {
   "display_name": "Python 3",
   "language": "python",
   "name": "python3"
  },
  "language_info": {
   "codemirror_mode": {
    "name": "ipython",
    "version": 3
   },
   "file_extension": ".py",
   "mimetype": "text/x-python",
   "name": "python",
   "nbconvert_exporter": "python",
   "pygments_lexer": "ipython3",
   "version": "3.6.4"
  }
 },
 "nbformat": 4,
 "nbformat_minor": 2
}
