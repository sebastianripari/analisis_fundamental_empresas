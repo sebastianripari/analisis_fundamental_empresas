{
 "cells": [
  {
   "cell_type": "markdown",
   "metadata": {},
   "source": [
    "# PER (Price Earning Ratio)"
   ]
  },
  {
   "cell_type": "markdown",
   "metadata": {},
   "source": [
    "El PER (Price Earning Ratio), relacion entre precio y beneficio, es el indicador por excelencia en el mundo bursatil. Este <b>relaciona el precio al que cotiza una accion con los beneficios que genera una empresa</b>, es una simple division entre el precio de la accion y el beneficio neto entre el numero de acciones de esa empresa."
   ]
  },
  {
   "cell_type": "markdown",
   "metadata": {},
   "source": [
    "De esta division sale un numero que indica los anios necesarios para recuperar la inversion teniendo en cuenta los beneficios que genera. Asi, cuando mas elevado sea el PER, mas estan pagando los inversores por el beneficio, mientras que cuanto mas bajo mejor."
   ]
  },
  {
   "cell_type": "markdown",
   "metadata": {},
   "source": [
    "Un PER de entre 0 y 10 es, en lineas generales, bajo, lo que indica que la accion esta infravalorada. Entre 10 y 17 es el rango estandar para la mayoria de empresas, mientras que entre 17 y 25 supone que la accion esta ligeramente sobrevalorada. Por encima de 25 indica que la accion esta sobrevalorada, tanto porque los inversores esten avidos de hacerse con estas por las expectativias de beneficios o simplemente porque esta cara."
   ]
  },
  {
   "cell_type": "markdown",
   "metadata": {},
   "source": [
    "# PVL (Valor en libros) "
   ]
  },
  {
   "cell_type": "markdown",
   "metadata": {},
   "source": [
    "Esta variable no es tan conocida como el PER, pero permite saber cual es el valor real de una compania. Como su nombre lo indica, el valor en libros de una accion tiene en cuenta cuanto valen los activos de esa compania, atendiendo a su contabilidad. Pero no solo sus activos, sino el valor de sus activos menos sus obligaciones dividido entre el total de las acciones que hay en circulacion."
   ]
  },
  {
   "cell_type": "markdown",
   "metadata": {},
   "source": [
    "Explicacion de una forma mas sencilla, seria sumar todos los bienes (edifcios, maquinaria, patentes, etc) que tiene una empresa restarle las deudas y el resultado es valor en libros, que dividido entre el numero de acciones y nos dice cual es el precio \"real\". Si este esta por encima del precio mercado, el precio al que cotizan las acciones quiere decir que se esta comprado en una accion cuyo valor intrinseco es mayor. Mientras que si es menor que el precio de cotiacion, indica que en la compra se esta pagando algo mas."
   ]
  },
  {
   "cell_type": "markdown",
   "metadata": {},
   "source": [
    "Esta variable comparada con su precio de mercado se conoce como precio entre el valor en libros <b>PVL</b>, cuyo multiplo seniala cuantas veces se esta pagando en el mercado el valor en libros (valor patrimonial) de la empresa."
   ]
  },
  {
   "cell_type": "markdown",
   "metadata": {},
   "source": [
    "# Rentabilidad por dividendo"
   ]
  },
  {
   "cell_type": "markdown",
   "metadata": {},
   "source": [
    "La rentabilidad por dividendo es otra de las variables mas utilizadas para comparar la cotizacion de una accion y es basica para los pequenios inversores, muy atentos al pago de dividendos. Este pago porcentaje compara el dividendo esperado por accion entre el precio de cotizacion de esta. Asi, cuanto mas alto mejor."
   ]
  },
  {
   "cell_type": "markdown",
   "metadata": {},
   "source": [
    "En terminos generales, las empresas con una mayor rentabilidad por dividendo suponen una mejor compra, ya que el inversor recibira mayor parte del beneficio via dividendos. Esta variable deben tenerla especialmente en cuenta aquellos inversores que buscan cobrar de forma recurrente dividendos."
   ]
  },
  {
   "cell_type": "markdown",
   "metadata": {},
   "source": [
    "Además de una alta rentabilidad por dividendo, los invesores que quieran cobrar de forma recurrente un dividendo deben atender a otras dos cosas fundamentales para ello: que las acciones sean de empresas grandes y que tengan un negocio recurrente. Entre este grupo de empresas las eléctricas y los bancos son las principales."
   ]
  },
  {
   "cell_type": "markdown",
   "metadata": {},
   "source": [
    "# Pay Out"
   ]
  },
  {
   "cell_type": "markdown",
   "metadata": {},
   "source": [
    "El <b>Pay Out</b> no es en si mismo un ratio bursatil, pero permite a los inversores saber que parte del beneficio esta dispuesto a repartir la compania entre sus accionistas. Las empresas que cotizan en bolsa pueden hacer dos cosas con el beneficio: guardarlo para utilizarlo para crecer, para tiempos peores, para seguir investigando, etc o para repartirlo."
   ]
  },
  {
   "cell_type": "markdown",
   "metadata": {},
   "source": [
    "En el segundo caso, aquellas empresas que deciden repartir los beneficios entre los accionistas, habra que estar muy atentos a que porcentaje estan dispuestos a distribuir. Este es el concepto es el de <b>Pay Out</b>. Asi si un consejero delegado anuncia un Pay Out del 20% esto supone que se repartira entre los accionistas un 20% del beneficio de ese anio; en el caso que fuera un 50% supondria distribuir la mitad de las ganancias."
   ]
  },
  {
   "cell_type": "markdown",
   "metadata": {},
   "source": [
    "# Beneficio por accion"
   ]
  },
  {
   "cell_type": "markdown",
   "metadata": {},
   "source": [
    "El beneficio por accion, tambien conocido como <b>BPA</b>, es una variable muy utilizada, ya que tiene en cuenta el beneficio que genera una emrpesa entre el numero de acciones. El calculo es muy sencillo, la division del beneficio de un trimestre o de un anio entre el numero de acciones en ese momento. "
   ]
  },
  {
   "cell_type": "markdown",
   "metadata": {},
   "source": [
    "Cuanto mayor sea, indicara que mayor es el beneficio capaz de generar la empresa por cada accion. Aunque claro, esto siempre hay que ponerlo en contexto y no se puede comparar con otra, pero si dentro de un mismo sector."
   ]
  },
  {
   "cell_type": "markdown",
   "metadata": {},
   "source": [
    "Tambien existe el beneficio por accion estimado, que en ves de tener en cuenta el beneficio de la compania toma como referencia las expectativas de beneficio que hay en la empresa entre el numero de acciones."
   ]
  }
 ],
 "metadata": {
  "kernelspec": {
   "display_name": "Python 3",
   "language": "python",
   "name": "python3"
  },
  "language_info": {
   "codemirror_mode": {
    "name": "ipython",
    "version": 3
   },
   "file_extension": ".py",
   "mimetype": "text/x-python",
   "name": "python",
   "nbconvert_exporter": "python",
   "pygments_lexer": "ipython3",
   "version": "3.7.0"
  }
 },
 "nbformat": 4,
 "nbformat_minor": 2
}
