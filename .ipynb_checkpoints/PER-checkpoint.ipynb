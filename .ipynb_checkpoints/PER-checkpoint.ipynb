{
 "cells": [
  {
   "cell_type": "markdown",
   "metadata": {},
   "source": [
    "# PER (Price Earning Ratio)"
   ]
  },
  {
   "cell_type": "markdown",
   "metadata": {},
   "source": [
    "El PER (Price Earning Ratio), relacion entre precio y beneficio, es el indicador por excelencia en el mundo bursatil. Este <b>relaciona el precio al que cotiza una accion con los beneficios que genera una empresa</b>, es una simple division entre el precio de la accion y el beneficio neto entre el numero de acciones de esa empresa."
   ]
  },
  {
   "cell_type": "markdown",
   "metadata": {},
   "source": [
    "\\begin{equation}\n",
    "\\large PER = \\frac{Precio}{Beneficio Por Accion}\n",
    "\\end{equation}"
   ]
  },
  {
   "cell_type": "markdown",
   "metadata": {},
   "source": [
    "De esta division sale un numero que indica los anios necesarios para recuperar la inversion teniendo en cuenta los beneficios que genera. Asi, cuando mas elevado sea el PER, mas estan pagando los inversores por el beneficio, mientras que cuanto mas bajo mejor."
   ]
  },
  {
   "cell_type": "markdown",
   "metadata": {},
   "source": [
    "Un PER de entre 0 y 10 es, en lineas generales, bajo, lo que indica que la accion esta infravalorada. Entre 10 y 17 es el rango estandar para la mayoria de empresas, mientras que entre 17 y 25 supone que la accion esta ligeramente sobrevalorada. Por encima de 25 indica que la accion esta sobrevalorada, tanto porque los inversores esten avidos de hacerse con estas por las expectativias de beneficios o simplemente porque esta cara."
   ]
  }
 ],
 "metadata": {
  "kernelspec": {
   "display_name": "Python 3",
   "language": "python",
   "name": "python3"
  },
  "language_info": {
   "codemirror_mode": {
    "name": "ipython",
    "version": 3
   },
   "file_extension": ".py",
   "mimetype": "text/x-python",
   "name": "python",
   "nbconvert_exporter": "python",
   "pygments_lexer": "ipython3",
   "version": "3.6.4"
  }
 },
 "nbformat": 4,
 "nbformat_minor": 2
}
