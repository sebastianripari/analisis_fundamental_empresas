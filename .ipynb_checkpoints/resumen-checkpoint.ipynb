{
 "cells": [
  {
   "cell_type": "markdown",
   "metadata": {},
   "source": [
    "# Ratios Financieros"
   ]
  },
  {
   "cell_type": "markdown",
   "metadata": {},
   "source": [
    "Los ratios financieros nos sirven para comparar empresas del mismos sector."
   ]
  },
  {
   "cell_type": "markdown",
   "metadata": {},
   "source": [
    "## P/E (Price / Earnings)"
   ]
  },
  {
   "cell_type": "markdown",
   "metadata": {},
   "source": [
    "Su valor indica cuantas veces se esta pagando el beneficio neto anual de una empresa determinada al comprar una accion. Por lo tanto termina diciendo en cuantos anios recuperamos la inversion. Ya que lo que hacemos es precio divido ganancia, entonces nos da cuantas ganancias de esa magnitud necesitamos para alcanzar el monto de precio que pagamos. Por lo tanto mientras menor P/E mejor."
   ]
  },
  {
   "cell_type": "markdown",
   "metadata": {},
   "source": [
    "\\begin{equation}\n",
    "\\large P/E = \\frac{Precio}{Ganancia}\n",
    "\\end{equation}"
   ]
  },
  {
   "cell_type": "markdown",
   "metadata": {},
   "source": [
    "Donde:\n",
    "- <b>Precio</b>: Es el precio de la accion.\n",
    "- <b>Ganancia</b>: Es la ganancia que obtenemos por cada accion."
   ]
  },
  {
   "cell_type": "markdown",
   "metadata": {},
   "source": [
    "Pero cuidado porque el precio es el precio de mercado, entonces puede que por espectativas del mercado de que la accion le valla mal en le futuro tenga un precio bajo y haga que termine teniendo un P/E bajo. Y el motivo no fue porque la empresa este infravalorada sino que por espectativas futuras de que valga menos. Lo mismo se aplica para un precio alto."
   ]
  },
  {
   "cell_type": "markdown",
   "metadata": {},
   "source": [
    "PER|Descripcion\n",
    "-|-\n",
    "N/A|Si la empresa tiene pérdidas, su PER será indeterminado. Aunque se puede calcular un PER negativo, por convención se asigna un PER indefinido a estas empresas.\n",
    "0-10|O bien la acción se encuentra infravalorada o los inversores creen que los beneficios de la empresa tienden al declive.\n",
    "10-17|Para la gran mayoría de empresas, este valor de PER es el adecuado (i.e. retorno de inversión más beneficio estándar).\n",
    "17-25|O bien la acción se encuentra sobrevalorada o los beneficios de la empresa han crecido desde que se publicaron los beneficios inmediatamente anteriores. También puede indicar que los inversores creen que en un futuro próximo los beneficios crecerán sustancialmente (véase especulación).\n",
    "25|Un PER de esta magnitud se puede deber a grandes expectativas de crecimiento de los beneficios futuros, o bien que la empresa se encuentra en el contexto de una burbuja financiera especulativa. Los precios están inflados."
   ]
  },
  {
   "cell_type": "markdown",
   "metadata": {},
   "source": [
    "<hr>"
   ]
  },
  {
   "cell_type": "markdown",
   "metadata": {},
   "source": [
    "## P/B (Price to Book)"
   ]
  },
  {
   "cell_type": "markdown",
   "metadata": {},
   "source": [
    "Es el cociente entre el valor de mercado de la accion de la empresa sobre el valor real de la accion de la empresa. El valor real es el que sale de dividir el patrimonio neto del empresa en la cantidad de acciones en circulacion."
   ]
  },
  {
   "cell_type": "markdown",
   "metadata": {},
   "source": [
    "\\begin{equation}\n",
    "\\large P/B = \\frac{Price}{\\frac{PN}{Shares}}\n",
    "\\end{equation}"
   ]
  },
  {
   "cell_type": "markdown",
   "metadata": {},
   "source": [
    "Donde:\n",
    "- <b>Price</b>: Precio de mercado de la accion.\n",
    "- <b>PN</b>: Patrimonio Neto. Es el patrimonio neto de la empresa. Cuanto realmente vale.\n",
    "- <b>Shares</b>: Es la cantidad de acciones que existen de esta empresa."
   ]
  },
  {
   "cell_type": "markdown",
   "metadata": {},
   "source": [
    "Lo que nos termina diciendo es cuantas veces es el precio de mercado el precio real de la accion. Por ejemplo si tenemos un P/B de 6 significa que el precio de mercado es 6 veces mas que el precio real. Esto puede significar que la accion esta sobrevalorada por espectativas de que le valla bien en el futuro. En cambio si el P/B es de 0.5 significa que el precio de mercado es la mitad del precio real, estoy significa o que la empresa esta infravalorada o que alla espectativas de que baje el valor real."
   ]
  },
  {
   "cell_type": "markdown",
   "metadata": {},
   "source": [
    "<hr>"
   ]
  },
  {
   "cell_type": "markdown",
   "metadata": {},
   "source": [
    "## ROE (Return on Equity)"
   ]
  },
  {
   "cell_type": "markdown",
   "metadata": {},
   "source": [
    "Para explicar este ratio miremos un <b>ejemplo</b>. Supongamos que tenemos dos negocios que nos dan la misma ganancia pero en uno invirtiendo menos que en el otro. Entonces tenemos un negocio que nos da la misma plata invirtiendo menos, entonces ese tendra mayor ROE. "
   ]
  },
  {
   "cell_type": "markdown",
   "metadata": {},
   "source": [
    "Asi que podemos deducir que el ROE es un ratio que dique tan eficiente con su plata es una empresa. "
   ]
  }
 ],
 "metadata": {
  "kernelspec": {
   "display_name": "Python 3",
   "language": "python",
   "name": "python3"
  },
  "language_info": {
   "codemirror_mode": {
    "name": "ipython",
    "version": 3
   },
   "file_extension": ".py",
   "mimetype": "text/x-python",
   "name": "python",
   "nbconvert_exporter": "python",
   "pygments_lexer": "ipython3",
   "version": "3.6.4"
  }
 },
 "nbformat": 4,
 "nbformat_minor": 2
}
