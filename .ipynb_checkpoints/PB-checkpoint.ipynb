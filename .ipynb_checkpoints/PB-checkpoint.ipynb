{
 "cells": [
  {
   "cell_type": "markdown",
   "metadata": {},
   "source": [
    "# (P/B) Price To Book"
   ]
  },
  {
   "cell_type": "markdown",
   "metadata": {},
   "source": [
    "Es el valor de la accion real de la empresa. Para diferenciar del valor de mercado de la accion, ya que este lo pone el mercado, en cambio el real se calcula dividiendo el patrimonio neto de la empresa en la cantidad de acciones que existen."
   ]
  },
  {
   "cell_type": "markdown",
   "metadata": {},
   "source": [
    "\\begin{equation}\n",
    "\\large P/B = \\frac{PN}{Shares}\n",
    "\\end{equation}"
   ]
  },
  {
   "cell_type": "markdown",
   "metadata": {},
   "source": [
    "Donde:\n",
    "- PN: Patrimonio Neto. Es el patrimonio neto de la empresa. Cuanto realmente vale.\n",
    "- Shares: Es la cantidad de acciones que existen de esta empresa."
   ]
  }
 ],
 "metadata": {
  "kernelspec": {
   "display_name": "Python 3",
   "language": "python",
   "name": "python3"
  },
  "language_info": {
   "codemirror_mode": {
    "name": "ipython",
    "version": 3
   },
   "file_extension": ".py",
   "mimetype": "text/x-python",
   "name": "python",
   "nbconvert_exporter": "python",
   "pygments_lexer": "ipython3",
   "version": "3.6.4"
  }
 },
 "nbformat": 4,
 "nbformat_minor": 2
}
