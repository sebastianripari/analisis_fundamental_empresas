{
 "cells": [
  {
   "cell_type": "markdown",
   "metadata": {},
   "source": [
    "# EPS (Earnings Per Share)"
   ]
  },
  {
   "cell_type": "markdown",
   "metadata": {},
   "source": [
    "Earnings Per Share (EPS) en espaniol <b>Ganancias por Accion</b> es la parte de las ganancias de una empresa asignada a cada accion. Las ganancias por accion sirven como un indicador de la rentabilidad de la empresa. Es comun que una compania reporte los EPS que se ajustan por elementos extraordinarios. La mayoria de los EPS se calcula como:"
   ]
  },
  {
   "cell_type": "markdown",
   "metadata": {},
   "source": [
    "\\begin{equation}\n",
    "\\large EPS = \\frac{NetIncome - Preferred Dividens}{Weighted Average Common Shares}\n",
    "\\end{equation}"
   ]
  }
 ],
 "metadata": {
  "kernelspec": {
   "display_name": "Python 3",
   "language": "python",
   "name": "python3"
  },
  "language_info": {
   "codemirror_mode": {
    "name": "ipython",
    "version": 3
   },
   "file_extension": ".py",
   "mimetype": "text/x-python",
   "name": "python",
   "nbconvert_exporter": "python",
   "pygments_lexer": "ipython3",
   "version": "3.6.4"
  }
 },
 "nbformat": 4,
 "nbformat_minor": 2
}
