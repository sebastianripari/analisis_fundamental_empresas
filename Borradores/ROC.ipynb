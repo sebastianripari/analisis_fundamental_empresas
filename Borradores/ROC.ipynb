{
 "cells": [
  {
   "cell_type": "markdown",
   "metadata": {},
   "source": [
    "# ROC (Return On Capital)"
   ]
  },
  {
   "cell_type": "markdown",
   "metadata": {},
   "source": [
    "<b>Return on capital (ROC)</b> o <b>Return on invested capital (ROIC)</b>, es un ratio usado en finanzas, valuacion y cuentas, es una medida de la rentabilidad y el potencial de creacion de valor de las empresas despues de tener en cuenta el monto del capital inicial invertido. La proporcion es:"
   ]
  },
  {
   "cell_type": "markdown",
   "metadata": {},
   "source": [
    "\\begin{equation}\n",
    "\\large ROC = \\frac{NetOperatingProfit - AdjustedTaxes}{Invested Capital}\n",
    "\\end{equation}"
   ]
  },
  {
   "cell_type": "markdown",
   "metadata": {},
   "source": [
    "Mientras mejor es el ROC mejor es la empresa."
   ]
  }
 ],
 "metadata": {
  "kernelspec": {
   "display_name": "Python 3",
   "language": "python",
   "name": "python3"
  },
  "language_info": {
   "codemirror_mode": {
    "name": "ipython",
    "version": 3
   },
   "file_extension": ".py",
   "mimetype": "text/x-python",
   "name": "python",
   "nbconvert_exporter": "python",
   "pygments_lexer": "ipython3",
   "version": "3.6.4"
  }
 },
 "nbformat": 4,
 "nbformat_minor": 2
}
