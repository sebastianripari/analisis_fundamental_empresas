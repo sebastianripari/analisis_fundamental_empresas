{
 "cells": [
  {
   "cell_type": "markdown",
   "metadata": {},
   "source": [
    "# (P/B) Price To Book"
   ]
  },
  {
   "cell_type": "markdown",
   "metadata": {},
   "source": [
    "Es el cociente entre el valor de mercado de la accion de la empresa sobre el valor real de la accion de la empresa. El valor real es el que sale de dividir el patrimonio neto del empresa en la cantidad de acciones en circulacion."
   ]
  },
  {
   "cell_type": "markdown",
   "metadata": {},
   "source": [
    "\\begin{equation}\n",
    "\\large P/B = \\frac{Price}{\\frac{PN}{Shares}}\n",
    "\\end{equation}"
   ]
  },
  {
   "cell_type": "markdown",
   "metadata": {},
   "source": [
    "Donde:\n",
    "- Price: Precio de mercado de la accion.\n",
    "- PN: Patrimonio Neto. Es el patrimonio neto de la empresa. Cuanto realmente vale.\n",
    "- Shares: Es la cantidad de acciones que existen de esta empresa."
   ]
  },
  {
   "cell_type": "markdown",
   "metadata": {},
   "source": [
    "<hr>"
   ]
  },
  {
   "cell_type": "markdown",
   "metadata": {},
   "source": [
    "<b>Fuente</b>: https://www.youtube.com/watch?v=6SL9g-Juxkc"
   ]
  }
 ],
 "metadata": {
  "kernelspec": {
   "display_name": "Python 3",
   "language": "python",
   "name": "python3"
  },
  "language_info": {
   "codemirror_mode": {
    "name": "ipython",
    "version": 3
   },
   "file_extension": ".py",
   "mimetype": "text/x-python",
   "name": "python",
   "nbconvert_exporter": "python",
   "pygments_lexer": "ipython3",
   "version": "3.6.4"
  }
 },
 "nbformat": 4,
 "nbformat_minor": 2
}
